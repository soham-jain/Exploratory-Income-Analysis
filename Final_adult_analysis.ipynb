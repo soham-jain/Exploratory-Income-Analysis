{
  "nbformat": 4,
  "nbformat_minor": 0,
  "metadata": {
    "colab": {
      "name": "Final_adult_analysis.ipynb",
      "version": "0.3.2",
      "provenance": [],
      "collapsed_sections": [
        "7ymELygJ72dx",
        "f3FETVAWgPsV",
        "W8KiGJy7gfpL",
        "lfNRINFDf7n_"
      ],
      "toc_visible": true
    },
    "kernelspec": {
      "name": "python3",
      "display_name": "Python 3"
    }
  },
  "cells": [
    {
      "metadata": {
        "id": "FkHOUbOMFZ5p",
        "colab_type": "code",
        "colab": {}
      },
      "cell_type": "code",
      "source": [
        "import pandas as pd\n",
        "import numpy as np\n",
        "import matplotlib as mlb\n",
        "import matplotlib.pyplot as plt\n",
        "import seaborn as sns\n",
        "% matplotlib inline"
      ],
      "execution_count": 0,
      "outputs": []
    },
    {
      "metadata": {
        "id": "7ymELygJ72dx",
        "colab_type": "text"
      },
      "cell_type": "markdown",
      "source": [
        "# Import Dataset"
      ]
    },
    {
      "metadata": {
        "id": "sq4tixIuF6mY",
        "colab_type": "code",
        "colab": {}
      },
      "cell_type": "code",
      "source": [
        "df=pd.read_csv(\"adult.csv\", na_values=\"?\")"
      ],
      "execution_count": 0,
      "outputs": []
    },
    {
      "metadata": {
        "id": "t79wzxA3yL-O",
        "colab_type": "text"
      },
      "cell_type": "markdown",
      "source": [
        "## **Introduction **\n",
        "\n",
        "This is a dataset of USA which contains 32,561 observations distributed amongst 15 variables. The variables are :\n",
        "\n",
        "\n",
        "*   Age :  The age of the individual\n",
        "*   Workclass : The employer type (goverment, military, private, etc.)\n",
        "*   fnlwgt : final weight on Current Population Survey (CPS)\n",
        "*   Education : The highest level of education achieved for that individual\n",
        "*   Education Num : Education in numerical form\n",
        "*   Marital Status : Marriage status\n",
        "*   Occupation : Job of the individual\n",
        "*   Relationship : Family relations (son, wife, husband, etc.)\n",
        "*   Race – The individuals' race (Black, White, Eskimo, etc.)\n",
        "*   Sex : Gender\n",
        "*   Capital_gain : Capital gains recorded\n",
        "*   Capital_loss : Capital losses recorded\n",
        "*   hr_per_week : working hours per week\n",
        "*   Native Country : Country of origin for the individual\n",
        "*   Income : Boolean Variable. Whether or not the person makes more than \\$50,000 per annum income.\n",
        "\n"
      ]
    },
    {
      "metadata": {
        "id": "OvNRVNG_49GK",
        "colab_type": "text"
      },
      "cell_type": "markdown",
      "source": [
        "#*Inspecting Data*"
      ]
    },
    {
      "metadata": {
        "id": "C2thoBPnGiPa",
        "colab_type": "code",
        "colab": {
          "base_uri": "https://localhost:8080/",
          "height": 284
        },
        "outputId": "e4200f93-bbb8-43ea-9f61-1bf94f305d13"
      },
      "cell_type": "code",
      "source": [
        "df.head()"
      ],
      "execution_count": 43,
      "outputs": [
        {
          "output_type": "execute_result",
          "data": {
            "text/html": [
              "<div>\n",
              "<style scoped>\n",
              "    .dataframe tbody tr th:only-of-type {\n",
              "        vertical-align: middle;\n",
              "    }\n",
              "\n",
              "    .dataframe tbody tr th {\n",
              "        vertical-align: top;\n",
              "    }\n",
              "\n",
              "    .dataframe thead th {\n",
              "        text-align: right;\n",
              "    }\n",
              "</style>\n",
              "<table border=\"1\" class=\"dataframe\">\n",
              "  <thead>\n",
              "    <tr style=\"text-align: right;\">\n",
              "      <th></th>\n",
              "      <th>age</th>\n",
              "      <th>workclass</th>\n",
              "      <th>fnlwgt</th>\n",
              "      <th>education</th>\n",
              "      <th>education.num</th>\n",
              "      <th>marital.status</th>\n",
              "      <th>occupation</th>\n",
              "      <th>relationship</th>\n",
              "      <th>race</th>\n",
              "      <th>sex</th>\n",
              "      <th>capital.gain</th>\n",
              "      <th>capital.loss</th>\n",
              "      <th>hours.per.week</th>\n",
              "      <th>native.country</th>\n",
              "      <th>income</th>\n",
              "    </tr>\n",
              "  </thead>\n",
              "  <tbody>\n",
              "    <tr>\n",
              "      <th>0</th>\n",
              "      <td>90</td>\n",
              "      <td>NaN</td>\n",
              "      <td>77053</td>\n",
              "      <td>HS-grad</td>\n",
              "      <td>9</td>\n",
              "      <td>Widowed</td>\n",
              "      <td>NaN</td>\n",
              "      <td>Not-in-family</td>\n",
              "      <td>White</td>\n",
              "      <td>Female</td>\n",
              "      <td>0</td>\n",
              "      <td>4356</td>\n",
              "      <td>40</td>\n",
              "      <td>United-States</td>\n",
              "      <td>&lt;=50K</td>\n",
              "    </tr>\n",
              "    <tr>\n",
              "      <th>1</th>\n",
              "      <td>82</td>\n",
              "      <td>Private</td>\n",
              "      <td>132870</td>\n",
              "      <td>HS-grad</td>\n",
              "      <td>9</td>\n",
              "      <td>Widowed</td>\n",
              "      <td>Exec-managerial</td>\n",
              "      <td>Not-in-family</td>\n",
              "      <td>White</td>\n",
              "      <td>Female</td>\n",
              "      <td>0</td>\n",
              "      <td>4356</td>\n",
              "      <td>18</td>\n",
              "      <td>United-States</td>\n",
              "      <td>&lt;=50K</td>\n",
              "    </tr>\n",
              "    <tr>\n",
              "      <th>2</th>\n",
              "      <td>66</td>\n",
              "      <td>NaN</td>\n",
              "      <td>186061</td>\n",
              "      <td>Some-college</td>\n",
              "      <td>10</td>\n",
              "      <td>Widowed</td>\n",
              "      <td>NaN</td>\n",
              "      <td>Unmarried</td>\n",
              "      <td>Black</td>\n",
              "      <td>Female</td>\n",
              "      <td>0</td>\n",
              "      <td>4356</td>\n",
              "      <td>40</td>\n",
              "      <td>United-States</td>\n",
              "      <td>&lt;=50K</td>\n",
              "    </tr>\n",
              "    <tr>\n",
              "      <th>3</th>\n",
              "      <td>54</td>\n",
              "      <td>Private</td>\n",
              "      <td>140359</td>\n",
              "      <td>7th-8th</td>\n",
              "      <td>4</td>\n",
              "      <td>Divorced</td>\n",
              "      <td>Machine-op-inspct</td>\n",
              "      <td>Unmarried</td>\n",
              "      <td>White</td>\n",
              "      <td>Female</td>\n",
              "      <td>0</td>\n",
              "      <td>3900</td>\n",
              "      <td>40</td>\n",
              "      <td>United-States</td>\n",
              "      <td>&lt;=50K</td>\n",
              "    </tr>\n",
              "    <tr>\n",
              "      <th>4</th>\n",
              "      <td>41</td>\n",
              "      <td>Private</td>\n",
              "      <td>264663</td>\n",
              "      <td>Some-college</td>\n",
              "      <td>10</td>\n",
              "      <td>Separated</td>\n",
              "      <td>Prof-specialty</td>\n",
              "      <td>Own-child</td>\n",
              "      <td>White</td>\n",
              "      <td>Female</td>\n",
              "      <td>0</td>\n",
              "      <td>3900</td>\n",
              "      <td>40</td>\n",
              "      <td>United-States</td>\n",
              "      <td>&lt;=50K</td>\n",
              "    </tr>\n",
              "  </tbody>\n",
              "</table>\n",
              "</div>"
            ],
            "text/plain": [
              "   age workclass  fnlwgt     education  education.num marital.status  \\\n",
              "0   90       NaN   77053       HS-grad              9        Widowed   \n",
              "1   82   Private  132870       HS-grad              9        Widowed   \n",
              "2   66       NaN  186061  Some-college             10        Widowed   \n",
              "3   54   Private  140359       7th-8th              4       Divorced   \n",
              "4   41   Private  264663  Some-college             10      Separated   \n",
              "\n",
              "          occupation   relationship   race     sex  capital.gain  \\\n",
              "0                NaN  Not-in-family  White  Female             0   \n",
              "1    Exec-managerial  Not-in-family  White  Female             0   \n",
              "2                NaN      Unmarried  Black  Female             0   \n",
              "3  Machine-op-inspct      Unmarried  White  Female             0   \n",
              "4     Prof-specialty      Own-child  White  Female             0   \n",
              "\n",
              "   capital.loss  hours.per.week native.country income  \n",
              "0          4356              40  United-States  <=50K  \n",
              "1          4356              18  United-States  <=50K  \n",
              "2          4356              40  United-States  <=50K  \n",
              "3          3900              40  United-States  <=50K  \n",
              "4          3900              40  United-States  <=50K  "
            ]
          },
          "metadata": {
            "tags": []
          },
          "execution_count": 43
        }
      ]
    },
    {
      "metadata": {
        "id": "NUBZfQj96AOE",
        "colab_type": "code",
        "colab": {
          "base_uri": "https://localhost:8080/",
          "height": 372
        },
        "outputId": "3099bf75-3ad6-4e2e-fc6d-341e6464991b"
      },
      "cell_type": "code",
      "source": [
        "df.info()"
      ],
      "execution_count": 44,
      "outputs": [
        {
          "output_type": "stream",
          "text": [
            "<class 'pandas.core.frame.DataFrame'>\n",
            "RangeIndex: 32561 entries, 0 to 32560\n",
            "Data columns (total 15 columns):\n",
            "age               32561 non-null int64\n",
            "workclass         30725 non-null object\n",
            "fnlwgt            32561 non-null int64\n",
            "education         32561 non-null object\n",
            "education.num     32561 non-null int64\n",
            "marital.status    32561 non-null object\n",
            "occupation        30718 non-null object\n",
            "relationship      32561 non-null object\n",
            "race              32561 non-null object\n",
            "sex               32561 non-null object\n",
            "capital.gain      32561 non-null int64\n",
            "capital.loss      32561 non-null int64\n",
            "hours.per.week    32561 non-null int64\n",
            "native.country    31978 non-null object\n",
            "income            32561 non-null object\n",
            "dtypes: int64(6), object(9)\n",
            "memory usage: 3.7+ MB\n"
          ],
          "name": "stdout"
        }
      ]
    },
    {
      "metadata": {
        "id": "zR2QMR5xLTXm",
        "colab_type": "text"
      },
      "cell_type": "markdown",
      "source": [
        "Here, the info command tells us that in the 15 (variables) columns, there are 32,561 entries. The data types are either object (strings) or int64 (numeric)."
      ]
    },
    {
      "metadata": {
        "id": "O6U9I62v5QQz",
        "colab_type": "text"
      },
      "cell_type": "markdown",
      "source": [
        "## Handling Missing Values"
      ]
    },
    {
      "metadata": {
        "id": "seRCMYel6awJ",
        "colab_type": "text"
      },
      "cell_type": "markdown",
      "source": [
        "It is evident that there are certain missing values in three columns viz. Workclass, Occupation, and Native Country."
      ]
    },
    {
      "metadata": {
        "id": "lK2ii_TKXUAL",
        "colab_type": "code",
        "colab": {}
      },
      "cell_type": "code",
      "source": [
        "#The missing value containing rows are dropped from the data for better results by the help of dropna command\n",
        "df_1=df.dropna(how='any')"
      ],
      "execution_count": 0,
      "outputs": []
    },
    {
      "metadata": {
        "id": "7qPlFM_oHV_T",
        "colab_type": "code",
        "colab": {
          "base_uri": "https://localhost:8080/",
          "height": 34
        },
        "outputId": "17229218-ee94-4b66-a8cd-53266f9af978"
      },
      "cell_type": "code",
      "source": [
        "df_1.shape\n",
        "#The processed dataset without any missing values"
      ],
      "execution_count": 46,
      "outputs": [
        {
          "output_type": "execute_result",
          "data": {
            "text/plain": [
              "(30162, 15)"
            ]
          },
          "metadata": {
            "tags": []
          },
          "execution_count": 46
        }
      ]
    },
    {
      "metadata": {
        "id": "LKqIMJdKHhgL",
        "colab_type": "code",
        "colab": {
          "base_uri": "https://localhost:8080/",
          "height": 301
        },
        "outputId": "99478d14-1e75-4dcc-e2ed-53804cf9ed05"
      },
      "cell_type": "code",
      "source": [
        "df_1[['age', 'workclass', 'fnlwgt', 'education', 'education.num',\n",
        "       'marital.status', 'occupation', 'relationship', 'race', 'sex',\n",
        "       'capital.gain', 'capital.loss', 'hours.per.week', 'native.country',\n",
        "       'income']].nunique()"
      ],
      "execution_count": 47,
      "outputs": [
        {
          "output_type": "execute_result",
          "data": {
            "text/plain": [
              "age                  72\n",
              "workclass             7\n",
              "fnlwgt            20263\n",
              "education            16\n",
              "education.num        16\n",
              "marital.status        7\n",
              "occupation           14\n",
              "relationship          6\n",
              "race                  5\n",
              "sex                   2\n",
              "capital.gain        118\n",
              "capital.loss         90\n",
              "hours.per.week       94\n",
              "native.country       41\n",
              "income                2\n",
              "dtype: int64"
            ]
          },
          "metadata": {
            "tags": []
          },
          "execution_count": 47
        }
      ]
    },
    {
      "metadata": {
        "id": "FqJ2gdRGsHBB",
        "colab_type": "code",
        "colab": {
          "base_uri": "https://localhost:8080/",
          "height": 227
        },
        "outputId": "5fcad1b6-336f-44b0-fb0b-1a62acc1504c"
      },
      "cell_type": "code",
      "source": [
        "df_1.corr()"
      ],
      "execution_count": 48,
      "outputs": [
        {
          "output_type": "execute_result",
          "data": {
            "text/html": [
              "<div>\n",
              "<style scoped>\n",
              "    .dataframe tbody tr th:only-of-type {\n",
              "        vertical-align: middle;\n",
              "    }\n",
              "\n",
              "    .dataframe tbody tr th {\n",
              "        vertical-align: top;\n",
              "    }\n",
              "\n",
              "    .dataframe thead th {\n",
              "        text-align: right;\n",
              "    }\n",
              "</style>\n",
              "<table border=\"1\" class=\"dataframe\">\n",
              "  <thead>\n",
              "    <tr style=\"text-align: right;\">\n",
              "      <th></th>\n",
              "      <th>age</th>\n",
              "      <th>fnlwgt</th>\n",
              "      <th>education.num</th>\n",
              "      <th>capital.gain</th>\n",
              "      <th>capital.loss</th>\n",
              "      <th>hours.per.week</th>\n",
              "    </tr>\n",
              "  </thead>\n",
              "  <tbody>\n",
              "    <tr>\n",
              "      <th>age</th>\n",
              "      <td>1.000000</td>\n",
              "      <td>-0.076511</td>\n",
              "      <td>0.043526</td>\n",
              "      <td>0.080154</td>\n",
              "      <td>0.060165</td>\n",
              "      <td>0.101599</td>\n",
              "    </tr>\n",
              "    <tr>\n",
              "      <th>fnlwgt</th>\n",
              "      <td>-0.076511</td>\n",
              "      <td>1.000000</td>\n",
              "      <td>-0.044992</td>\n",
              "      <td>0.000422</td>\n",
              "      <td>-0.009750</td>\n",
              "      <td>-0.022886</td>\n",
              "    </tr>\n",
              "    <tr>\n",
              "      <th>education.num</th>\n",
              "      <td>0.043526</td>\n",
              "      <td>-0.044992</td>\n",
              "      <td>1.000000</td>\n",
              "      <td>0.124416</td>\n",
              "      <td>0.079646</td>\n",
              "      <td>0.152522</td>\n",
              "    </tr>\n",
              "    <tr>\n",
              "      <th>capital.gain</th>\n",
              "      <td>0.080154</td>\n",
              "      <td>0.000422</td>\n",
              "      <td>0.124416</td>\n",
              "      <td>1.000000</td>\n",
              "      <td>-0.032229</td>\n",
              "      <td>0.080432</td>\n",
              "    </tr>\n",
              "    <tr>\n",
              "      <th>capital.loss</th>\n",
              "      <td>0.060165</td>\n",
              "      <td>-0.009750</td>\n",
              "      <td>0.079646</td>\n",
              "      <td>-0.032229</td>\n",
              "      <td>1.000000</td>\n",
              "      <td>0.052417</td>\n",
              "    </tr>\n",
              "    <tr>\n",
              "      <th>hours.per.week</th>\n",
              "      <td>0.101599</td>\n",
              "      <td>-0.022886</td>\n",
              "      <td>0.152522</td>\n",
              "      <td>0.080432</td>\n",
              "      <td>0.052417</td>\n",
              "      <td>1.000000</td>\n",
              "    </tr>\n",
              "  </tbody>\n",
              "</table>\n",
              "</div>"
            ],
            "text/plain": [
              "                     age    fnlwgt  education.num  capital.gain  capital.loss  \\\n",
              "age             1.000000 -0.076511       0.043526      0.080154      0.060165   \n",
              "fnlwgt         -0.076511  1.000000      -0.044992      0.000422     -0.009750   \n",
              "education.num   0.043526 -0.044992       1.000000      0.124416      0.079646   \n",
              "capital.gain    0.080154  0.000422       0.124416      1.000000     -0.032229   \n",
              "capital.loss    0.060165 -0.009750       0.079646     -0.032229      1.000000   \n",
              "hours.per.week  0.101599 -0.022886       0.152522      0.080432      0.052417   \n",
              "\n",
              "                hours.per.week  \n",
              "age                   0.101599  \n",
              "fnlwgt               -0.022886  \n",
              "education.num         0.152522  \n",
              "capital.gain          0.080432  \n",
              "capital.loss          0.052417  \n",
              "hours.per.week        1.000000  "
            ]
          },
          "metadata": {
            "tags": []
          },
          "execution_count": 48
        }
      ]
    },
    {
      "metadata": {
        "id": "KL6DJBSJtbjj",
        "colab_type": "text"
      },
      "cell_type": "markdown",
      "source": [
        "No significant correlation can be found between the above columns."
      ]
    },
    {
      "metadata": {
        "id": "joI4kFM9CN3v",
        "colab_type": "text"
      },
      "cell_type": "markdown",
      "source": [
        "#*1.Exploratory Analysis*"
      ]
    },
    {
      "metadata": {
        "id": "KLs8FC52dl5Q",
        "colab_type": "text"
      },
      "cell_type": "markdown",
      "source": [
        "# 1.1 Income v/s Education"
      ]
    },
    {
      "metadata": {
        "id": "fxgLfMojd5Cr",
        "colab_type": "code",
        "colab": {}
      },
      "cell_type": "code",
      "source": [
        "# Here, I have created a dictionary of educational qualifications (education) of an individual according to its numerical value (education.num)\n",
        "edu_level = {}\n",
        "for x,y in df_1[['education.num','education']].drop_duplicates().itertuples(index=False):\n",
        "    edu_level[y] = x"
      ],
      "execution_count": 0,
      "outputs": []
    },
    {
      "metadata": {
        "id": "oWBvh2AerCUT",
        "colab_type": "text"
      },
      "cell_type": "markdown",
      "source": [
        "A cross table is taken consisting the variables education and income."
      ]
    },
    {
      "metadata": {
        "id": "ryGq2fcWq8ff",
        "colab_type": "code",
        "colab": {}
      },
      "cell_type": "code",
      "source": [
        "cross=pd.crosstab(df_1.education, df_1.income)"
      ],
      "execution_count": 0,
      "outputs": []
    },
    {
      "metadata": {
        "id": "gbw74AagUU9B",
        "colab_type": "code",
        "colab": {}
      },
      "cell_type": "code",
      "source": [
        "# Now proportion of the cohort population on education on basis of income is found upto 2 places of decimals \n",
        "i_e=round(cross.div(cross.apply(sum,1),0),2)"
      ],
      "execution_count": 0,
      "outputs": []
    },
    {
      "metadata": {
        "id": "tivTS34-ecSi",
        "colab_type": "code",
        "colab": {}
      },
      "cell_type": "code",
      "source": [
        "# I now sorted this according to educatioin_num assigned to the different levels of education.\n",
        "i_e = i_e.reindex(sorted(edu_level, key=edu_level.get, reverse=True))"
      ],
      "execution_count": 0,
      "outputs": []
    },
    {
      "metadata": {
        "id": "poREdddbYEQP",
        "colab_type": "code",
        "colab": {
          "base_uri": "https://localhost:8080/",
          "height": 562
        },
        "outputId": "5e7e79aa-9c7c-4fa1-bb4b-2ed4b6865f1f"
      },
      "cell_type": "code",
      "source": [
        "ax=i_e.plot(kind=\"bar\", title=\"INCOME vs EDUCATION (proportion)\", figsize=(8,8))\n",
        "ax.set_xlabel('Education level')\n",
        "ax.set_ylabel('Proportion of population')\n",
        "plt.show()"
      ],
      "execution_count": 53,
      "outputs": [
        {
          "output_type": "display_data",
          "data": {
            "image/png": "[encoded data removed]",
            "text/plain": [
              "<matplotlib.figure.Figure at 0x7f6a7eb983c8>"
            ]
          },
          "metadata": {
            "tags": []
          }
        }
      ]
    },
    {
      "metadata": {
        "id": "A89P4mQ0blYz",
        "colab_type": "text"
      },
      "cell_type": "markdown",
      "source": [
        "From the above graph we can conclude that people with education level only upto preschool are only those whose income is less than 50k. In other words, we can say most (almost 75%) of the people surveyed that have a doctorate, earn above 50k.\n",
        "\n",
        "Although there is no conclusive proof (correlation) but we can say that most people with income higher than 50k tend to go for higher studies i.e. doctorate and others."
      ]
    },
    {
      "metadata": {
        "id": "UObhab7DdXMr",
        "colab_type": "text"
      },
      "cell_type": "markdown",
      "source": [
        "#1.2 Income v/s Gender"
      ]
    },
    {
      "metadata": {
        "id": "kaBXaA0poPcA",
        "colab_type": "code",
        "colab": {
          "base_uri": "https://localhost:8080/",
          "height": 217
        },
        "outputId": "23d1d17a-d685-49d4-ea22-3ca7cbb98377"
      },
      "cell_type": "code",
      "source": [
        "#The data is now filtered based on income and sex by count command in the groupby command.\n",
        "Genderwise=df_1.groupby(['income','sex']).count()\n",
        "Genderwise"
      ],
      "execution_count": 54,
      "outputs": [
        {
          "output_type": "execute_result",
          "data": {
            "text/html": [
              "<div>\n",
              "<style scoped>\n",
              "    .dataframe tbody tr th:only-of-type {\n",
              "        vertical-align: middle;\n",
              "    }\n",
              "\n",
              "    .dataframe tbody tr th {\n",
              "        vertical-align: top;\n",
              "    }\n",
              "\n",
              "    .dataframe thead th {\n",
              "        text-align: right;\n",
              "    }\n",
              "</style>\n",
              "<table border=\"1\" class=\"dataframe\">\n",
              "  <thead>\n",
              "    <tr style=\"text-align: right;\">\n",
              "      <th></th>\n",
              "      <th></th>\n",
              "      <th>age</th>\n",
              "      <th>workclass</th>\n",
              "      <th>fnlwgt</th>\n",
              "      <th>education</th>\n",
              "      <th>education.num</th>\n",
              "      <th>marital.status</th>\n",
              "      <th>occupation</th>\n",
              "      <th>relationship</th>\n",
              "      <th>race</th>\n",
              "      <th>capital.gain</th>\n",
              "      <th>capital.loss</th>\n",
              "      <th>hours.per.week</th>\n",
              "      <th>native.country</th>\n",
              "    </tr>\n",
              "    <tr>\n",
              "      <th>income</th>\n",
              "      <th>sex</th>\n",
              "      <th></th>\n",
              "      <th></th>\n",
              "      <th></th>\n",
              "      <th></th>\n",
              "      <th></th>\n",
              "      <th></th>\n",
              "      <th></th>\n",
              "      <th></th>\n",
              "      <th></th>\n",
              "      <th></th>\n",
              "      <th></th>\n",
              "      <th></th>\n",
              "      <th></th>\n",
              "    </tr>\n",
              "  </thead>\n",
              "  <tbody>\n",
              "    <tr>\n",
              "      <th rowspan=\"2\" valign=\"top\">&lt;=50K</th>\n",
              "      <th>Female</th>\n",
              "      <td>8670</td>\n",
              "      <td>8670</td>\n",
              "      <td>8670</td>\n",
              "      <td>8670</td>\n",
              "      <td>8670</td>\n",
              "      <td>8670</td>\n",
              "      <td>8670</td>\n",
              "      <td>8670</td>\n",
              "      <td>8670</td>\n",
              "      <td>8670</td>\n",
              "      <td>8670</td>\n",
              "      <td>8670</td>\n",
              "      <td>8670</td>\n",
              "    </tr>\n",
              "    <tr>\n",
              "      <th>Male</th>\n",
              "      <td>13984</td>\n",
              "      <td>13984</td>\n",
              "      <td>13984</td>\n",
              "      <td>13984</td>\n",
              "      <td>13984</td>\n",
              "      <td>13984</td>\n",
              "      <td>13984</td>\n",
              "      <td>13984</td>\n",
              "      <td>13984</td>\n",
              "      <td>13984</td>\n",
              "      <td>13984</td>\n",
              "      <td>13984</td>\n",
              "      <td>13984</td>\n",
              "    </tr>\n",
              "    <tr>\n",
              "      <th rowspan=\"2\" valign=\"top\">&gt;50K</th>\n",
              "      <th>Female</th>\n",
              "      <td>1112</td>\n",
              "      <td>1112</td>\n",
              "      <td>1112</td>\n",
              "      <td>1112</td>\n",
              "      <td>1112</td>\n",
              "      <td>1112</td>\n",
              "      <td>1112</td>\n",
              "      <td>1112</td>\n",
              "      <td>1112</td>\n",
              "      <td>1112</td>\n",
              "      <td>1112</td>\n",
              "      <td>1112</td>\n",
              "      <td>1112</td>\n",
              "    </tr>\n",
              "    <tr>\n",
              "      <th>Male</th>\n",
              "      <td>6396</td>\n",
              "      <td>6396</td>\n",
              "      <td>6396</td>\n",
              "      <td>6396</td>\n",
              "      <td>6396</td>\n",
              "      <td>6396</td>\n",
              "      <td>6396</td>\n",
              "      <td>6396</td>\n",
              "      <td>6396</td>\n",
              "      <td>6396</td>\n",
              "      <td>6396</td>\n",
              "      <td>6396</td>\n",
              "      <td>6396</td>\n",
              "    </tr>\n",
              "  </tbody>\n",
              "</table>\n",
              "</div>"
            ],
            "text/plain": [
              "                 age  workclass  fnlwgt  education  education.num  \\\n",
              "income sex                                                          \n",
              "<=50K  Female   8670       8670    8670       8670           8670   \n",
              "       Male    13984      13984   13984      13984          13984   \n",
              ">50K   Female   1112       1112    1112       1112           1112   \n",
              "       Male     6396       6396    6396       6396           6396   \n",
              "\n",
              "               marital.status  occupation  relationship   race  capital.gain  \\\n",
              "income sex                                                                     \n",
              "<=50K  Female            8670        8670          8670   8670          8670   \n",
              "       Male             13984       13984         13984  13984         13984   \n",
              ">50K   Female            1112        1112          1112   1112          1112   \n",
              "       Male              6396        6396          6396   6396          6396   \n",
              "\n",
              "               capital.loss  hours.per.week  native.country  \n",
              "income sex                                                   \n",
              "<=50K  Female          8670            8670            8670  \n",
              "       Male           13984           13984           13984  \n",
              ">50K   Female          1112            1112            1112  \n",
              "       Male            6396            6396            6396  "
            ]
          },
          "metadata": {
            "tags": []
          },
          "execution_count": 54
        }
      ]
    },
    {
      "metadata": {
        "id": "r8pMtWiVbyMn",
        "colab_type": "code",
        "colab": {
          "base_uri": "https://localhost:8080/",
          "height": 137
        },
        "outputId": "d80579a5-b485-4735-c21f-3144170161cb"
      },
      "cell_type": "code",
      "source": [
        "# A cross table is also created\n",
        "cross_1=pd.crosstab(df_1.sex, df_1.income)\n",
        "cross_1"
      ],
      "execution_count": 55,
      "outputs": [
        {
          "output_type": "execute_result",
          "data": {
            "text/html": [
              "<div>\n",
              "<style scoped>\n",
              "    .dataframe tbody tr th:only-of-type {\n",
              "        vertical-align: middle;\n",
              "    }\n",
              "\n",
              "    .dataframe tbody tr th {\n",
              "        vertical-align: top;\n",
              "    }\n",
              "\n",
              "    .dataframe thead th {\n",
              "        text-align: right;\n",
              "    }\n",
              "</style>\n",
              "<table border=\"1\" class=\"dataframe\">\n",
              "  <thead>\n",
              "    <tr style=\"text-align: right;\">\n",
              "      <th>income</th>\n",
              "      <th>&lt;=50K</th>\n",
              "      <th>&gt;50K</th>\n",
              "    </tr>\n",
              "    <tr>\n",
              "      <th>sex</th>\n",
              "      <th></th>\n",
              "      <th></th>\n",
              "    </tr>\n",
              "  </thead>\n",
              "  <tbody>\n",
              "    <tr>\n",
              "      <th>Female</th>\n",
              "      <td>8670</td>\n",
              "      <td>1112</td>\n",
              "    </tr>\n",
              "    <tr>\n",
              "      <th>Male</th>\n",
              "      <td>13984</td>\n",
              "      <td>6396</td>\n",
              "    </tr>\n",
              "  </tbody>\n",
              "</table>\n",
              "</div>"
            ],
            "text/plain": [
              "income  <=50K  >50K\n",
              "sex                \n",
              "Female   8670  1112\n",
              "Male    13984  6396"
            ]
          },
          "metadata": {
            "tags": []
          },
          "execution_count": 55
        }
      ]
    },
    {
      "metadata": {
        "id": "f3FETVAWgPsV",
        "colab_type": "text"
      },
      "cell_type": "markdown",
      "source": [
        "###Bar Chart"
      ]
    },
    {
      "metadata": {
        "id": "spgfS14y4kQn",
        "colab_type": "code",
        "colab": {
          "base_uri": "https://localhost:8080/",
          "height": 280
        },
        "outputId": "9cf5b5a8-f22f-4e88-80e6-25f7ecdbbccb"
      },
      "cell_type": "code",
      "source": [
        "ax_1=cross_1.plot(kind=\"barh\", title=\"INCOME v/s GENDER\")"
      ],
      "execution_count": 56,
      "outputs": [
        {
          "output_type": "display_data",
          "data": {
            "image/png": "[encoded data removed]",
            "text/plain": [
              "<matplotlib.figure.Figure at 0x7f6a7eb772b0>"
            ]
          },
          "metadata": {
            "tags": []
          }
        }
      ]
    },
    {
      "metadata": {
        "id": "3b3LINzTvr8C",
        "colab_type": "text"
      },
      "cell_type": "markdown",
      "source": [
        " The above horizontal bar diagram represents the actual numbers of people according to their income and gender"
      ]
    },
    {
      "metadata": {
        "id": "ckyKbWs14LN1",
        "colab_type": "code",
        "colab": {}
      },
      "cell_type": "code",
      "source": [
        "# Now proportion of the cohort population on gender is found out on basis of income (upto 2 places of decimals)\n",
        "i_g=round(cross_1.div(cross_1.apply(sum,1),0),2)"
      ],
      "execution_count": 0,
      "outputs": []
    },
    {
      "metadata": {
        "id": "OkHhmMgGRcc6",
        "colab_type": "code",
        "colab": {
          "base_uri": "https://localhost:8080/",
          "height": 293
        },
        "outputId": "748336ce-24e9-4244-d604-74ab91e5009a"
      },
      "cell_type": "code",
      "source": [
        "ax_1=i_g.plot(kind=\"barh\", title=\"INCOME v/s GENDER (Proportion)\")\n",
        "ax_1.set_ylabel('Sex')\n",
        "ax_1.set_xlabel('Proportion of population')\n",
        "plt.show()"
      ],
      "execution_count": 58,
      "outputs": [
        {
          "output_type": "display_data",
          "data": {
            "image/png": "[encoded data removed]",
            "text/plain": [
              "<matplotlib.figure.Figure at 0x7f6a7eb52fd0>"
            ]
          },
          "metadata": {
            "tags": []
          }
        }
      ]
    },
    {
      "metadata": {
        "id": "jXBAfUWZUcyv",
        "colab_type": "text"
      },
      "cell_type": "markdown",
      "source": [
        "Clearly, more than 90% of females surveyed earn below or equal to 50k while in the males, this proportion is approximately 70-30."
      ]
    },
    {
      "metadata": {
        "id": "W8KiGJy7gfpL",
        "colab_type": "text"
      },
      "cell_type": "markdown",
      "source": [
        "### Pie Chart"
      ]
    },
    {
      "metadata": {
        "id": "HTGT0ZVHSYNP",
        "colab_type": "code",
        "colab": {
          "base_uri": "https://localhost:8080/",
          "height": 157
        },
        "outputId": "063c9581-d22f-410f-eccf-96cf5dc8ae1d"
      },
      "cell_type": "code",
      "source": [
        "Gender_Analysis=df_1.groupby(\"sex\").count()\n",
        "Gender_Analysis"
      ],
      "execution_count": 59,
      "outputs": [
        {
          "output_type": "execute_result",
          "data": {
            "text/html": [
              "<div>\n",
              "<style scoped>\n",
              "    .dataframe tbody tr th:only-of-type {\n",
              "        vertical-align: middle;\n",
              "    }\n",
              "\n",
              "    .dataframe tbody tr th {\n",
              "        vertical-align: top;\n",
              "    }\n",
              "\n",
              "    .dataframe thead th {\n",
              "        text-align: right;\n",
              "    }\n",
              "</style>\n",
              "<table border=\"1\" class=\"dataframe\">\n",
              "  <thead>\n",
              "    <tr style=\"text-align: right;\">\n",
              "      <th></th>\n",
              "      <th>age</th>\n",
              "      <th>workclass</th>\n",
              "      <th>fnlwgt</th>\n",
              "      <th>education</th>\n",
              "      <th>education.num</th>\n",
              "      <th>marital.status</th>\n",
              "      <th>occupation</th>\n",
              "      <th>relationship</th>\n",
              "      <th>race</th>\n",
              "      <th>capital.gain</th>\n",
              "      <th>capital.loss</th>\n",
              "      <th>hours.per.week</th>\n",
              "      <th>native.country</th>\n",
              "      <th>income</th>\n",
              "    </tr>\n",
              "    <tr>\n",
              "      <th>sex</th>\n",
              "      <th></th>\n",
              "      <th></th>\n",
              "      <th></th>\n",
              "      <th></th>\n",
              "      <th></th>\n",
              "      <th></th>\n",
              "      <th></th>\n",
              "      <th></th>\n",
              "      <th></th>\n",
              "      <th></th>\n",
              "      <th></th>\n",
              "      <th></th>\n",
              "      <th></th>\n",
              "      <th></th>\n",
              "    </tr>\n",
              "  </thead>\n",
              "  <tbody>\n",
              "    <tr>\n",
              "      <th>Female</th>\n",
              "      <td>9782</td>\n",
              "      <td>9782</td>\n",
              "      <td>9782</td>\n",
              "      <td>9782</td>\n",
              "      <td>9782</td>\n",
              "      <td>9782</td>\n",
              "      <td>9782</td>\n",
              "      <td>9782</td>\n",
              "      <td>9782</td>\n",
              "      <td>9782</td>\n",
              "      <td>9782</td>\n",
              "      <td>9782</td>\n",
              "      <td>9782</td>\n",
              "      <td>9782</td>\n",
              "    </tr>\n",
              "    <tr>\n",
              "      <th>Male</th>\n",
              "      <td>20380</td>\n",
              "      <td>20380</td>\n",
              "      <td>20380</td>\n",
              "      <td>20380</td>\n",
              "      <td>20380</td>\n",
              "      <td>20380</td>\n",
              "      <td>20380</td>\n",
              "      <td>20380</td>\n",
              "      <td>20380</td>\n",
              "      <td>20380</td>\n",
              "      <td>20380</td>\n",
              "      <td>20380</td>\n",
              "      <td>20380</td>\n",
              "      <td>20380</td>\n",
              "    </tr>\n",
              "  </tbody>\n",
              "</table>\n",
              "</div>"
            ],
            "text/plain": [
              "          age  workclass  fnlwgt  education  education.num  marital.status  \\\n",
              "sex                                                                          \n",
              "Female   9782       9782    9782       9782           9782            9782   \n",
              "Male    20380      20380   20380      20380          20380           20380   \n",
              "\n",
              "        occupation  relationship   race  capital.gain  capital.loss  \\\n",
              "sex                                                                   \n",
              "Female        9782          9782   9782          9782          9782   \n",
              "Male         20380         20380  20380         20380         20380   \n",
              "\n",
              "        hours.per.week  native.country  income  \n",
              "sex                                             \n",
              "Female            9782            9782    9782  \n",
              "Male             20380           20380   20380  "
            ]
          },
          "metadata": {
            "tags": []
          },
          "execution_count": 59
        }
      ]
    },
    {
      "metadata": {
        "id": "kJqXi9QnsWfL",
        "colab_type": "code",
        "colab": {
          "base_uri": "https://localhost:8080/",
          "height": 54
        },
        "outputId": "aa7ea396-3ecf-4f51-944c-ac7c4d51891b"
      },
      "cell_type": "code",
      "source": [
        "Gender_Analysis[\"income\"].tolist()"
      ],
      "execution_count": 60,
      "outputs": [
        {
          "output_type": "execute_result",
          "data": {
            "text/plain": [
              "[9782, 20380]"
            ]
          },
          "metadata": {
            "tags": []
          },
          "execution_count": 60
        }
      ]
    },
    {
      "metadata": {
        "id": "nnrIbedDsvPH",
        "colab_type": "code",
        "colab": {
          "base_uri": "https://localhost:8080/",
          "height": 267
        },
        "outputId": "3105f0d7-52a6-4b87-f456-8fa8a8bc9b35"
      },
      "cell_type": "code",
      "source": [
        "plt.pie(Gender_Analysis[\"income\"].tolist(),labels=['Female','Male'], explode=(0.05,0), autopct='%1.2f%%')\n",
        "plt.show()"
      ],
      "execution_count": 61,
      "outputs": [
        {
          "output_type": "display_data",
          "data": {
            "image/png": "[encoded data removed]",
            "text/plain": [
              "<matplotlib.figure.Figure at 0x7f6a7ec2fda0>"
            ]
          },
          "metadata": {
            "tags": []
          }
        }
      ]
    },
    {
      "metadata": {
        "id": "YN8T8C6qwh39",
        "colab_type": "text"
      },
      "cell_type": "markdown",
      "source": [
        "Males capture around 67.57% of the cohort while the females grab the remaining 32.43%."
      ]
    },
    {
      "metadata": {
        "id": "dLUzQ14FfNaz",
        "colab_type": "text"
      },
      "cell_type": "markdown",
      "source": [
        "##1.2.1 Income Disparity (Genderwise)"
      ]
    },
    {
      "metadata": {
        "id": "pWRHkWsObILi",
        "colab_type": "code",
        "colab": {
          "base_uri": "https://localhost:8080/",
          "height": 317
        },
        "outputId": "95d3cb8e-1e67-4651-e7db-a2e40e1c47e3"
      },
      "cell_type": "code",
      "source": [
        "# Here, I have taken into account how the genderwise distribution of income exists in the various workclasses\n",
        "work=pd.crosstab(df_1.workclass, [df_1.income, df_1.sex])\n",
        "work"
      ],
      "execution_count": 62,
      "outputs": [
        {
          "output_type": "execute_result",
          "data": {
            "text/html": [
              "<div>\n",
              "<style scoped>\n",
              "    .dataframe tbody tr th:only-of-type {\n",
              "        vertical-align: middle;\n",
              "    }\n",
              "\n",
              "    .dataframe tbody tr th {\n",
              "        vertical-align: top;\n",
              "    }\n",
              "\n",
              "    .dataframe thead tr th {\n",
              "        text-align: left;\n",
              "    }\n",
              "\n",
              "    .dataframe thead tr:last-of-type th {\n",
              "        text-align: right;\n",
              "    }\n",
              "</style>\n",
              "<table border=\"1\" class=\"dataframe\">\n",
              "  <thead>\n",
              "    <tr>\n",
              "      <th>income</th>\n",
              "      <th colspan=\"2\" halign=\"left\">&lt;=50K</th>\n",
              "      <th colspan=\"2\" halign=\"left\">&gt;50K</th>\n",
              "    </tr>\n",
              "    <tr>\n",
              "      <th>sex</th>\n",
              "      <th>Female</th>\n",
              "      <th>Male</th>\n",
              "      <th>Female</th>\n",
              "      <th>Male</th>\n",
              "    </tr>\n",
              "    <tr>\n",
              "      <th>workclass</th>\n",
              "      <th></th>\n",
              "      <th></th>\n",
              "      <th></th>\n",
              "      <th></th>\n",
              "    </tr>\n",
              "  </thead>\n",
              "  <tbody>\n",
              "    <tr>\n",
              "      <th>Federal-gov</th>\n",
              "      <td>254</td>\n",
              "      <td>324</td>\n",
              "      <td>55</td>\n",
              "      <td>310</td>\n",
              "    </tr>\n",
              "    <tr>\n",
              "      <th>Local-gov</th>\n",
              "      <td>672</td>\n",
              "      <td>786</td>\n",
              "      <td>152</td>\n",
              "      <td>457</td>\n",
              "    </tr>\n",
              "    <tr>\n",
              "      <th>Private</th>\n",
              "      <td>6921</td>\n",
              "      <td>10489</td>\n",
              "      <td>721</td>\n",
              "      <td>4155</td>\n",
              "    </tr>\n",
              "    <tr>\n",
              "      <th>Self-emp-inc</th>\n",
              "      <td>88</td>\n",
              "      <td>386</td>\n",
              "      <td>38</td>\n",
              "      <td>562</td>\n",
              "    </tr>\n",
              "    <tr>\n",
              "      <th>Self-emp-not-inc</th>\n",
              "      <td>312</td>\n",
              "      <td>1473</td>\n",
              "      <td>80</td>\n",
              "      <td>634</td>\n",
              "    </tr>\n",
              "    <tr>\n",
              "      <th>State-gov</th>\n",
              "      <td>418</td>\n",
              "      <td>517</td>\n",
              "      <td>66</td>\n",
              "      <td>278</td>\n",
              "    </tr>\n",
              "    <tr>\n",
              "      <th>Without-pay</th>\n",
              "      <td>5</td>\n",
              "      <td>9</td>\n",
              "      <td>0</td>\n",
              "      <td>0</td>\n",
              "    </tr>\n",
              "  </tbody>\n",
              "</table>\n",
              "</div>"
            ],
            "text/plain": [
              "income            <=50K          >50K      \n",
              "sex              Female   Male Female  Male\n",
              "workclass                                  \n",
              "Federal-gov         254    324     55   310\n",
              "Local-gov           672    786    152   457\n",
              "Private            6921  10489    721  4155\n",
              "Self-emp-inc         88    386     38   562\n",
              "Self-emp-not-inc    312   1473     80   634\n",
              "State-gov           418    517     66   278\n",
              "Without-pay           5      9      0     0"
            ]
          },
          "metadata": {
            "tags": []
          },
          "execution_count": 62
        }
      ]
    },
    {
      "metadata": {
        "id": "bxsB6WZztK_N",
        "colab_type": "code",
        "colab": {}
      },
      "cell_type": "code",
      "source": [
        "# Now proportion of the cohort population on workclass is found out on basis of income and gender(upto 2 places of decimals)\n",
        "gender_workclass = round((work).div(work.apply(sum,1),0),2)"
      ],
      "execution_count": 0,
      "outputs": []
    },
    {
      "metadata": {
        "id": "DD2fuGRKc22w",
        "colab_type": "code",
        "colab": {
          "base_uri": "https://localhost:8080/",
          "height": 497
        },
        "outputId": "e47e4189-b62d-404b-eff1-e81f1e1a95d1"
      },
      "cell_type": "code",
      "source": [
        "# All the genders alongwith their income segment is plotted against workclass\n",
        "gender_workclass[[('>50K','Male'), ('>50K','Female'),('<=50K','Male'),('<=50K','Female')]].plot(kind = 'barh', title = 'Proportion distribution across gender for each workclass', figsize = (8,8))\n",
        "plt.show()"
      ],
      "execution_count": 64,
      "outputs": [
        {
          "output_type": "display_data",
          "data": {
            "image/png": "[encoded data removed]",
            "text/plain": [
              "<matplotlib.figure.Figure at 0x7f6a7eafdba8>"
            ]
          },
          "metadata": {
            "tags": []
          }
        }
      ]
    },
    {
      "metadata": {
        "id": "LJPMeGmQtUxN",
        "colab_type": "text"
      },
      "cell_type": "markdown",
      "source": [
        "####1.2.1.1 Income of Males"
      ]
    },
    {
      "metadata": {
        "id": "dkMoXrPupM9O",
        "colab_type": "code",
        "colab": {
          "base_uri": "https://localhost:8080/",
          "height": 546
        },
        "outputId": "c6250739-da7b-4978-be7d-9a263ed06da5"
      },
      "cell_type": "code",
      "source": [
        "#The proportion of male gender alongwith their income segment are plotted against workclass\n",
        "gender_workclass[[('>50K','Male'), ('<=50K','Male')]].plot(kind = 'bar', title = 'Income Proportion for MALES in each workclass', figsize = (8,8), rot = 30)\n",
        "plt.show()"
      ],
      "execution_count": 65,
      "outputs": [
        {
          "output_type": "display_data",
          "data": {
            "image/png": "[encoded data removed]",
            "text/plain": [
              "<matplotlib.figure.Figure at 0x7f6a7ed02ef0>"
            ]
          },
          "metadata": {
            "tags": []
          }
        }
      ]
    },
    {
      "metadata": {
        "id": "6RIGzR2SVH0u",
        "colab_type": "text"
      },
      "cell_type": "markdown",
      "source": [
        "In the Self-emp-inc category, around 53% of the males earned more than 50k. In the Federal govt. category, an equal proportion of 33% earned both above as well as below 50k. In remaining categories majority of the males earned less than 50k."
      ]
    },
    {
      "metadata": {
        "id": "jjfuQCITttJy",
        "colab_type": "text"
      },
      "cell_type": "markdown",
      "source": [
        "####1.2.1.2 Income of Females"
      ]
    },
    {
      "metadata": {
        "id": "E0cFSJ5BplFX",
        "colab_type": "code",
        "colab": {
          "base_uri": "https://localhost:8080/",
          "height": 546
        },
        "outputId": "69a8690e-e3b7-4da4-da34-899139d31f94"
      },
      "cell_type": "code",
      "source": [
        "#The proportion of female gender alongwith their income segment are plotted against workclass\n",
        "gender_workclass[[('>50K','Female'), ('<=50K','Female')]].plot(kind = 'bar', title = 'Income Proportion for FEMALES in each workclass', figsize = (8,8), rot = 30)\n",
        "plt.show()"
      ],
      "execution_count": 66,
      "outputs": [
        {
          "output_type": "display_data",
          "data": {
            "image/png": "[encoded data removed]",
            "text/plain": [
              "<matplotlib.figure.Figure at 0x7f6a818b1390>"
            ]
          },
          "metadata": {
            "tags": []
          }
        }
      ]
    },
    {
      "metadata": {
        "id": "UKhPYsS7WMdQ",
        "colab_type": "text"
      },
      "cell_type": "markdown",
      "source": [
        "Since the total females earning more than 50k in the survey is quite less hence in all categories of workclasses majority females earned less than or equal to 50k."
      ]
    },
    {
      "metadata": {
        "id": "6oOnscectzeC",
        "colab_type": "text"
      },
      "cell_type": "markdown",
      "source": [
        "####1.2.1.3 Income of above 50K"
      ]
    },
    {
      "metadata": {
        "id": "8N0qjjoGsalS",
        "colab_type": "code",
        "colab": {
          "base_uri": "https://localhost:8080/",
          "height": 546
        },
        "outputId": "5d59d150-d7e8-4336-b497-8b65dc6a0bdc"
      },
      "cell_type": "code",
      "source": [
        "#The proportion of income segment of above 50K alongwith their gender segments are plotted against workclass\n",
        "gender_workclass[[('>50K','Male'), ('>50K','Female')]].plot(kind = 'bar', title = 'Proportion across gender for each workclass earning above 50K', figsize = (8,8), rot = 30)\n",
        "plt.show()"
      ],
      "execution_count": 67,
      "outputs": [
        {
          "output_type": "display_data",
          "data": {
            "image/png": "[encoded data removed]",
            "text/plain": [
              "<matplotlib.figure.Figure at 0x7f6a7ee40748>"
            ]
          },
          "metadata": {
            "tags": []
          }
        }
      ]
    },
    {
      "metadata": {
        "id": "MB_ES4nXWwok",
        "colab_type": "text"
      },
      "cell_type": "markdown",
      "source": [
        "From the bar graph above a huge disparity in income of men and women is evident amongst individuals earning above 50k."
      ]
    },
    {
      "metadata": {
        "id": "-bDWBBXkuJBO",
        "colab_type": "text"
      },
      "cell_type": "markdown",
      "source": [
        "####1.2.1.1 Income of below 50K"
      ]
    },
    {
      "metadata": {
        "id": "y2zewtHos7yV",
        "colab_type": "code",
        "colab": {
          "base_uri": "https://localhost:8080/",
          "height": 546
        },
        "outputId": "3c4c4aba-6177-4da4-9112-1a50fdd652ec"
      },
      "cell_type": "code",
      "source": [
        "#The proportion of income segment of below 50K alongwith their gender segments are plotted against workclass\n",
        "gender_workclass[[('<=50K','Male'), ('<=50K','Female')]].plot(kind = 'bar', title = 'Proportion across gender for each workclass earning above 50K', figsize = (8,8), rot = 30)\n",
        "plt.show()"
      ],
      "execution_count": 68,
      "outputs": [
        {
          "output_type": "display_data",
          "data": {
            "image/png": "[encoded data removed]",
            "text/plain": [
              "<matplotlib.figure.Figure at 0x7f6a7ebd5a90>"
            ]
          },
          "metadata": {
            "tags": []
          }
        }
      ]
    },
    {
      "metadata": {
        "id": "zg0vg670TXk8",
        "colab_type": "text"
      },
      "cell_type": "markdown",
      "source": [
        "Amongst the people earning 50,000 and below, a normal pay disparity between the males and females is visible in all the workclasses."
      ]
    },
    {
      "metadata": {
        "id": "lfNRINFDf7n_",
        "colab_type": "text"
      },
      "cell_type": "markdown",
      "source": [
        "#1.3 Income v/s Occupation"
      ]
    },
    {
      "metadata": {
        "id": "uV_lVnMTeaK2",
        "colab_type": "code",
        "colab": {}
      },
      "cell_type": "code",
      "source": [
        "# Here, I have taken into account how the distribution of income exists in the various occupations\n",
        "Occupation=pd.crosstab(df_1.occupation,df_1.income)\n",
        "Occupation.sort_values(by=\"<=50K\",inplace=True)\n",
        "#The data is sorted in descending order based on income less than or equal to 50K"
      ],
      "execution_count": 0,
      "outputs": []
    },
    {
      "metadata": {
        "id": "wR3gyKZOjCHK",
        "colab_type": "code",
        "colab": {
          "base_uri": "https://localhost:8080/",
          "height": 497
        },
        "outputId": "e2f8f6fa-43c0-420f-e130-1d084a03957b"
      },
      "cell_type": "code",
      "source": [
        "Occupation.plot(kind=\"barh\",figsize=(8,8), title=\"Income distribution based on Occupation\")\n",
        "plt.show()"
      ],
      "execution_count": 70,
      "outputs": [
        {
          "output_type": "display_data",
          "data": {
            "image/png": "[encoded data removed]",
            "text/plain": [
              "<matplotlib.figure.Figure at 0x7f6a7ed2c400>"
            ]
          },
          "metadata": {
            "tags": []
          }
        }
      ]
    },
    {
      "metadata": {
        "id": "U4ftGwrgB-Gt",
        "colab_type": "text"
      },
      "cell_type": "markdown",
      "source": [
        "The above bar graph depicts the actual  number of individuals whose occupation based income distribution is given"
      ]
    },
    {
      "metadata": {
        "id": "6VNd1510heTq",
        "colab_type": "code",
        "colab": {
          "base_uri": "https://localhost:8080/",
          "height": 583
        },
        "outputId": "b72a736d-39fa-45e9-8b6c-f4e33ce47bd4"
      },
      "cell_type": "code",
      "source": [
        "Jobwise=round(Occupation.div(Occupation.apply(sum,1),0),2)\n",
        "Jobwise.sort_values(by=\"<=50K\",inplace=True)\n",
        "Jobwise.plot(kind=\"bar\", figsize=(8,8),title=\"Proportion of Income Amongst Jobs\")\n",
        "plt.show()"
      ],
      "execution_count": 71,
      "outputs": [
        {
          "output_type": "display_data",
          "data": {
            "image/png": "[encoded data removed]",
            "text/plain": [
              "<matplotlib.figure.Figure at 0x7f6a8199c710>"
            ]
          },
          "metadata": {
            "tags": []
          }
        }
      ]
    },
    {
      "metadata": {
        "id": "knn7-u-DSAEs",
        "colab_type": "text"
      },
      "cell_type": "markdown",
      "source": [
        "We can infer from the above data that in Executive managerial occupation, an equal proportion of people can be found with income of above 50k as well as below 50k. Whereas, on the other hand, almost all people in the occupation of private house service earn below 50k."
      ]
    },
    {
      "metadata": {
        "id": "WTTiM317ugcQ",
        "colab_type": "text"
      },
      "cell_type": "markdown",
      "source": [
        "#1.4 Income v/s Workclass"
      ]
    },
    {
      "metadata": {
        "id": "q9o11hkeie6k",
        "colab_type": "code",
        "colab": {
          "base_uri": "https://localhost:8080/",
          "height": 374
        },
        "outputId": "4ae1d702-3940-4ce3-8fb1-a228faa8de52"
      },
      "cell_type": "code",
      "source": [
        "# The count of each workclass is found out\n",
        "workclass=df_1.groupby(\"workclass\").count()\n",
        "workclass"
      ],
      "execution_count": 72,
      "outputs": [
        {
          "output_type": "execute_result",
          "data": {
            "text/html": [
              "<div>\n",
              "<style scoped>\n",
              "    .dataframe tbody tr th:only-of-type {\n",
              "        vertical-align: middle;\n",
              "    }\n",
              "\n",
              "    .dataframe tbody tr th {\n",
              "        vertical-align: top;\n",
              "    }\n",
              "\n",
              "    .dataframe thead th {\n",
              "        text-align: right;\n",
              "    }\n",
              "</style>\n",
              "<table border=\"1\" class=\"dataframe\">\n",
              "  <thead>\n",
              "    <tr style=\"text-align: right;\">\n",
              "      <th></th>\n",
              "      <th>age</th>\n",
              "      <th>fnlwgt</th>\n",
              "      <th>education</th>\n",
              "      <th>education.num</th>\n",
              "      <th>marital.status</th>\n",
              "      <th>occupation</th>\n",
              "      <th>relationship</th>\n",
              "      <th>race</th>\n",
              "      <th>sex</th>\n",
              "      <th>capital.gain</th>\n",
              "      <th>capital.loss</th>\n",
              "      <th>hours.per.week</th>\n",
              "      <th>native.country</th>\n",
              "      <th>income</th>\n",
              "    </tr>\n",
              "    <tr>\n",
              "      <th>workclass</th>\n",
              "      <th></th>\n",
              "      <th></th>\n",
              "      <th></th>\n",
              "      <th></th>\n",
              "      <th></th>\n",
              "      <th></th>\n",
              "      <th></th>\n",
              "      <th></th>\n",
              "      <th></th>\n",
              "      <th></th>\n",
              "      <th></th>\n",
              "      <th></th>\n",
              "      <th></th>\n",
              "      <th></th>\n",
              "    </tr>\n",
              "  </thead>\n",
              "  <tbody>\n",
              "    <tr>\n",
              "      <th>Federal-gov</th>\n",
              "      <td>943</td>\n",
              "      <td>943</td>\n",
              "      <td>943</td>\n",
              "      <td>943</td>\n",
              "      <td>943</td>\n",
              "      <td>943</td>\n",
              "      <td>943</td>\n",
              "      <td>943</td>\n",
              "      <td>943</td>\n",
              "      <td>943</td>\n",
              "      <td>943</td>\n",
              "      <td>943</td>\n",
              "      <td>943</td>\n",
              "      <td>943</td>\n",
              "    </tr>\n",
              "    <tr>\n",
              "      <th>Local-gov</th>\n",
              "      <td>2067</td>\n",
              "      <td>2067</td>\n",
              "      <td>2067</td>\n",
              "      <td>2067</td>\n",
              "      <td>2067</td>\n",
              "      <td>2067</td>\n",
              "      <td>2067</td>\n",
              "      <td>2067</td>\n",
              "      <td>2067</td>\n",
              "      <td>2067</td>\n",
              "      <td>2067</td>\n",
              "      <td>2067</td>\n",
              "      <td>2067</td>\n",
              "      <td>2067</td>\n",
              "    </tr>\n",
              "    <tr>\n",
              "      <th>Private</th>\n",
              "      <td>22286</td>\n",
              "      <td>22286</td>\n",
              "      <td>22286</td>\n",
              "      <td>22286</td>\n",
              "      <td>22286</td>\n",
              "      <td>22286</td>\n",
              "      <td>22286</td>\n",
              "      <td>22286</td>\n",
              "      <td>22286</td>\n",
              "      <td>22286</td>\n",
              "      <td>22286</td>\n",
              "      <td>22286</td>\n",
              "      <td>22286</td>\n",
              "      <td>22286</td>\n",
              "    </tr>\n",
              "    <tr>\n",
              "      <th>Self-emp-inc</th>\n",
              "      <td>1074</td>\n",
              "      <td>1074</td>\n",
              "      <td>1074</td>\n",
              "      <td>1074</td>\n",
              "      <td>1074</td>\n",
              "      <td>1074</td>\n",
              "      <td>1074</td>\n",
              "      <td>1074</td>\n",
              "      <td>1074</td>\n",
              "      <td>1074</td>\n",
              "      <td>1074</td>\n",
              "      <td>1074</td>\n",
              "      <td>1074</td>\n",
              "      <td>1074</td>\n",
              "    </tr>\n",
              "    <tr>\n",
              "      <th>Self-emp-not-inc</th>\n",
              "      <td>2499</td>\n",
              "      <td>2499</td>\n",
              "      <td>2499</td>\n",
              "      <td>2499</td>\n",
              "      <td>2499</td>\n",
              "      <td>2499</td>\n",
              "      <td>2499</td>\n",
              "      <td>2499</td>\n",
              "      <td>2499</td>\n",
              "      <td>2499</td>\n",
              "      <td>2499</td>\n",
              "      <td>2499</td>\n",
              "      <td>2499</td>\n",
              "      <td>2499</td>\n",
              "    </tr>\n",
              "    <tr>\n",
              "      <th>State-gov</th>\n",
              "      <td>1279</td>\n",
              "      <td>1279</td>\n",
              "      <td>1279</td>\n",
              "      <td>1279</td>\n",
              "      <td>1279</td>\n",
              "      <td>1279</td>\n",
              "      <td>1279</td>\n",
              "      <td>1279</td>\n",
              "      <td>1279</td>\n",
              "      <td>1279</td>\n",
              "      <td>1279</td>\n",
              "      <td>1279</td>\n",
              "      <td>1279</td>\n",
              "      <td>1279</td>\n",
              "    </tr>\n",
              "    <tr>\n",
              "      <th>Without-pay</th>\n",
              "      <td>14</td>\n",
              "      <td>14</td>\n",
              "      <td>14</td>\n",
              "      <td>14</td>\n",
              "      <td>14</td>\n",
              "      <td>14</td>\n",
              "      <td>14</td>\n",
              "      <td>14</td>\n",
              "      <td>14</td>\n",
              "      <td>14</td>\n",
              "      <td>14</td>\n",
              "      <td>14</td>\n",
              "      <td>14</td>\n",
              "      <td>14</td>\n",
              "    </tr>\n",
              "  </tbody>\n",
              "</table>\n",
              "</div>"
            ],
            "text/plain": [
              "                    age  fnlwgt  education  education.num  marital.status  \\\n",
              "workclass                                                                   \n",
              "Federal-gov         943     943        943            943             943   \n",
              "Local-gov          2067    2067       2067           2067            2067   \n",
              "Private           22286   22286      22286          22286           22286   \n",
              "Self-emp-inc       1074    1074       1074           1074            1074   \n",
              "Self-emp-not-inc   2499    2499       2499           2499            2499   \n",
              "State-gov          1279    1279       1279           1279            1279   \n",
              "Without-pay          14      14         14             14              14   \n",
              "\n",
              "                  occupation  relationship   race    sex  capital.gain  \\\n",
              "workclass                                                                \n",
              "Federal-gov              943           943    943    943           943   \n",
              "Local-gov               2067          2067   2067   2067          2067   \n",
              "Private                22286         22286  22286  22286         22286   \n",
              "Self-emp-inc            1074          1074   1074   1074          1074   \n",
              "Self-emp-not-inc        2499          2499   2499   2499          2499   \n",
              "State-gov               1279          1279   1279   1279          1279   \n",
              "Without-pay               14            14     14     14            14   \n",
              "\n",
              "                  capital.loss  hours.per.week  native.country  income  \n",
              "workclass                                                               \n",
              "Federal-gov                943             943             943     943  \n",
              "Local-gov                 2067            2067            2067    2067  \n",
              "Private                  22286           22286           22286   22286  \n",
              "Self-emp-inc              1074            1074            1074    1074  \n",
              "Self-emp-not-inc          2499            2499            2499    2499  \n",
              "State-gov                 1279            1279            1279    1279  \n",
              "Without-pay                 14              14              14      14  "
            ]
          },
          "metadata": {
            "tags": []
          },
          "execution_count": 72
        }
      ]
    },
    {
      "metadata": {
        "id": "XqNenVoTu0oU",
        "colab_type": "code",
        "colab": {
          "base_uri": "https://localhost:8080/",
          "height": 34
        },
        "outputId": "bc2c40a5-0a0e-4c08-bd17-8f716e283ef0"
      },
      "cell_type": "code",
      "source": [
        "#The conut is converted to list format in order to plot into a pie chart\n",
        "workclass[\"income\"].tolist()"
      ],
      "execution_count": 73,
      "outputs": [
        {
          "output_type": "execute_result",
          "data": {
            "text/plain": [
              "[943, 2067, 22286, 1074, 2499, 1279, 14]"
            ]
          },
          "metadata": {
            "tags": []
          },
          "execution_count": 73
        }
      ]
    },
    {
      "metadata": {
        "id": "ywbVgheiH-GB",
        "colab_type": "code",
        "colab": {
          "base_uri": "https://localhost:8080/",
          "height": 247
        },
        "outputId": "e46515c3-a072-430c-ff05-e9641f3421be"
      },
      "cell_type": "code",
      "source": [
        "colors=['#ff9999', '#ff6666','#66b3ff', '#ffcc99', '#99ff99', 'yellowgreen','lightcoral']\n",
        "plt.pie(workclass[\"income\"].tolist(),labels= ['Federal-gov','Local-gov', 'Private', 'Self-emp-inc', 'Self-emp-not-inc', 'State-gov', 'Without-pay'],explode=(0.30,0.3,0,0.3,0.3,0.30,0.1), colors = colors, autopct='%1.2f%%')\n",
        "plt.show()"
      ],
      "execution_count": 74,
      "outputs": [
        {
          "output_type": "display_data",
          "data": {
            "image/png": "[encoded data removed]",
            "text/plain": [
              "<matplotlib.figure.Figure at 0x7f6a7ef2e748>"
            ]
          },
          "metadata": {
            "tags": []
          }
        }
      ]
    },
    {
      "metadata": {
        "id": "RJHKpTfpIs_P",
        "colab_type": "text"
      },
      "cell_type": "markdown",
      "source": [
        "Evidently, approximately 74% of the people surveyed are of the private workclass i.e., 74% people are working under private employers while just 0.05% work with no pay."
      ]
    },
    {
      "metadata": {
        "id": "QTxi1uEqZzf4",
        "colab_type": "text"
      },
      "cell_type": "markdown",
      "source": [
        "#1.5 Income v/s Race"
      ]
    },
    {
      "metadata": {
        "id": "EctrocwOfShN",
        "colab_type": "code",
        "colab": {
          "base_uri": "https://localhost:8080/",
          "height": 227
        },
        "outputId": "28647bbe-2741-47e1-ce15-1efe60397412"
      },
      "cell_type": "code",
      "source": [
        "# A cross table is drawn between race and income\n",
        "race_analysis=pd.crosstab(df_1.race,df_1.income)\n",
        "race_analysis"
      ],
      "execution_count": 75,
      "outputs": [
        {
          "output_type": "execute_result",
          "data": {
            "text/html": [
              "<div>\n",
              "<style scoped>\n",
              "    .dataframe tbody tr th:only-of-type {\n",
              "        vertical-align: middle;\n",
              "    }\n",
              "\n",
              "    .dataframe tbody tr th {\n",
              "        vertical-align: top;\n",
              "    }\n",
              "\n",
              "    .dataframe thead th {\n",
              "        text-align: right;\n",
              "    }\n",
              "</style>\n",
              "<table border=\"1\" class=\"dataframe\">\n",
              "  <thead>\n",
              "    <tr style=\"text-align: right;\">\n",
              "      <th>income</th>\n",
              "      <th>&lt;=50K</th>\n",
              "      <th>&gt;50K</th>\n",
              "    </tr>\n",
              "    <tr>\n",
              "      <th>race</th>\n",
              "      <th></th>\n",
              "      <th></th>\n",
              "    </tr>\n",
              "  </thead>\n",
              "  <tbody>\n",
              "    <tr>\n",
              "      <th>Amer-Indian-Eskimo</th>\n",
              "      <td>252</td>\n",
              "      <td>34</td>\n",
              "    </tr>\n",
              "    <tr>\n",
              "      <th>Asian-Pac-Islander</th>\n",
              "      <td>647</td>\n",
              "      <td>248</td>\n",
              "    </tr>\n",
              "    <tr>\n",
              "      <th>Black</th>\n",
              "      <td>2451</td>\n",
              "      <td>366</td>\n",
              "    </tr>\n",
              "    <tr>\n",
              "      <th>Other</th>\n",
              "      <td>210</td>\n",
              "      <td>21</td>\n",
              "    </tr>\n",
              "    <tr>\n",
              "      <th>White</th>\n",
              "      <td>19094</td>\n",
              "      <td>6839</td>\n",
              "    </tr>\n",
              "  </tbody>\n",
              "</table>\n",
              "</div>"
            ],
            "text/plain": [
              "income              <=50K  >50K\n",
              "race                           \n",
              "Amer-Indian-Eskimo    252    34\n",
              "Asian-Pac-Islander    647   248\n",
              "Black                2451   366\n",
              "Other                 210    21\n",
              "White               19094  6839"
            ]
          },
          "metadata": {
            "tags": []
          },
          "execution_count": 75
        }
      ]
    },
    {
      "metadata": {
        "id": "5vyAYuWcfbK6",
        "colab_type": "code",
        "colab": {
          "base_uri": "https://localhost:8080/",
          "height": 343
        },
        "outputId": "409e0c10-d4b7-4523-a5bb-21ffc6b6331a"
      },
      "cell_type": "code",
      "source": [
        "race_analysis.plot(kind=\"bar\")\n",
        "plt.xticks(rotation=45)\n",
        "plt.show()"
      ],
      "execution_count": 76,
      "outputs": [
        {
          "output_type": "display_data",
          "data": {
            "image/png": "[encoded data removed]",
            "text/plain": [
              "<matplotlib.figure.Figure at 0x7f6a7eedc710>"
            ]
          },
          "metadata": {
            "tags": []
          }
        }
      ]
    },
    {
      "metadata": {
        "id": "YvM4rFDraOaX",
        "colab_type": "code",
        "colab": {
          "base_uri": "https://localhost:8080/",
          "height": 34
        },
        "outputId": "b8c86029-ec6e-4dc1-a453-3b74e080d4ab"
      },
      "cell_type": "code",
      "source": [
        "race=df_1.groupby(\"race\").count()\n",
        "race[\"income\"].tolist()"
      ],
      "execution_count": 77,
      "outputs": [
        {
          "output_type": "execute_result",
          "data": {
            "text/plain": [
              "[286, 895, 2817, 231, 25933]"
            ]
          },
          "metadata": {
            "tags": []
          },
          "execution_count": 77
        }
      ]
    },
    {
      "metadata": {
        "id": "8aBM8JccbZ55",
        "colab_type": "code",
        "colab": {
          "base_uri": "https://localhost:8080/",
          "height": 262
        },
        "outputId": "8aaad8b3-94a5-4ff7-c0f4-56e9dd80239c"
      },
      "cell_type": "code",
      "source": [
        "colors_1=['#0FC0FF', '#75E807','#07E8AA', '#05FF2E','#FFF208',]\n",
        "labels=['Amer-Indian-Eskimo','Asian-Pac-Islander', 'Black', 'Other','White']\n",
        "plt.pie(race[\"income\"].tolist(),labels=labels,explode=(0.5,0.15,0.15,0.15,0),autopct='%1.2f%%', colors=colors_1, )\n",
        "plt.title(\"Income distribution amongst Races\")\n",
        "plt.show()"
      ],
      "execution_count": 78,
      "outputs": [
        {
          "output_type": "display_data",
          "data": {
            "image/png": "[encoded data removed]",
            "text/plain": [
              "<matplotlib.figure.Figure at 0x7f6a7efefcc0>"
            ]
          },
          "metadata": {
            "tags": []
          }
        }
      ]
    },
    {
      "metadata": {
        "id": "OYFPAqgGb9Tk",
        "colab_type": "text"
      },
      "cell_type": "markdown",
      "source": [
        "Major of the income distribution is dominated by the race of Whites with 86% and next race is Blacks with 9.34%. The minimum proportion was captured by Other races (0.77%)"
      ]
    },
    {
      "metadata": {
        "id": "yhL5DKrNQEvI",
        "colab_type": "text"
      },
      "cell_type": "markdown",
      "source": [
        ""
      ]
    },
    {
      "metadata": {
        "id": "gFJnDgYoJTfB",
        "colab_type": "text"
      },
      "cell_type": "markdown",
      "source": [
        "# 1.6 Income v/s Hours Per Week"
      ]
    },
    {
      "metadata": {
        "id": "Ojo7wbeFE0Df",
        "colab_type": "code",
        "colab": {
          "base_uri": "https://localhost:8080/",
          "height": 123
        },
        "outputId": "65b50ed4-3c13-488a-a1af-9d66a534ca4e"
      },
      "cell_type": "code",
      "source": [
        "df_1[\"hours.per.week\"].unique()"
      ],
      "execution_count": 79,
      "outputs": [
        {
          "output_type": "execute_result",
          "data": {
            "text/plain": [
              "array([18, 40, 45, 20, 35, 55, 76, 50, 42, 25, 32, 90, 60, 48, 70, 52, 72,\n",
              "       39,  6, 65, 80, 67, 99, 30, 75, 12, 26, 10, 84, 38, 62, 44,  8, 28,\n",
              "       59,  5, 24, 57, 34, 37, 46, 56, 41, 98, 43, 15,  1, 36, 47, 68, 54,\n",
              "        2, 16,  9,  3,  4, 33, 23, 22, 64, 51, 19, 58, 63, 53, 96, 66, 21,\n",
              "        7, 13, 27, 14, 77, 31, 78, 11, 49, 17, 85, 87, 88, 73, 89, 97, 94,\n",
              "       29, 82, 86, 91, 81, 92, 61, 74, 95])"
            ]
          },
          "metadata": {
            "tags": []
          },
          "execution_count": 79
        }
      ]
    },
    {
      "metadata": {
        "id": "dSTaBdwaFKLI",
        "colab_type": "code",
        "colab": {}
      },
      "cell_type": "code",
      "source": [
        "# Here, I have categorized the data according to 3 ranges : below 40, between 40 & 60, and above 60. \n",
        "df_1[\"weekly_hours\"]=['<40' if i < 40 else '40-60' if i <= 60 else '>60'  for i in df_1['hours.per.week']]\n",
        "df_1[\"weekly_hours\"]"
      ],
      "execution_count": 0,
      "outputs": []
    },
    {
      "metadata": {
        "id": "V5KcJAOqHGUq",
        "colab_type": "code",
        "colab": {
          "base_uri": "https://localhost:8080/",
          "height": 167
        },
        "outputId": "fc284ded-1bb3-4624-96cb-0e7d6dcdb261"
      },
      "cell_type": "code",
      "source": [
        "weekly_analysis=pd.crosstab(df_1.weekly_hours, df_1.income)\n",
        "weekly_analysis"
      ],
      "execution_count": 90,
      "outputs": [
        {
          "output_type": "execute_result",
          "data": {
            "text/html": [
              "<div>\n",
              "<style scoped>\n",
              "    .dataframe tbody tr th:only-of-type {\n",
              "        vertical-align: middle;\n",
              "    }\n",
              "\n",
              "    .dataframe tbody tr th {\n",
              "        vertical-align: top;\n",
              "    }\n",
              "\n",
              "    .dataframe thead th {\n",
              "        text-align: right;\n",
              "    }\n",
              "</style>\n",
              "<table border=\"1\" class=\"dataframe\">\n",
              "  <thead>\n",
              "    <tr style=\"text-align: right;\">\n",
              "      <th>income</th>\n",
              "      <th>&lt;=50K</th>\n",
              "      <th>&gt;50K</th>\n",
              "    </tr>\n",
              "    <tr>\n",
              "      <th>weekly_hours</th>\n",
              "      <th></th>\n",
              "      <th></th>\n",
              "    </tr>\n",
              "  </thead>\n",
              "  <tbody>\n",
              "    <tr>\n",
              "      <th>40-60</th>\n",
              "      <td>15937</td>\n",
              "      <td>6459</td>\n",
              "    </tr>\n",
              "    <tr>\n",
              "      <th>&lt;40</th>\n",
              "      <td>6057</td>\n",
              "      <td>657</td>\n",
              "    </tr>\n",
              "    <tr>\n",
              "      <th>&gt;60</th>\n",
              "      <td>660</td>\n",
              "      <td>392</td>\n",
              "    </tr>\n",
              "  </tbody>\n",
              "</table>\n",
              "</div>"
            ],
            "text/plain": [
              "income        <=50K  >50K\n",
              "weekly_hours             \n",
              "40-60         15937  6459\n",
              "<40            6057   657\n",
              ">60             660   392"
            ]
          },
          "metadata": {
            "tags": []
          },
          "execution_count": 90
        }
      ]
    },
    {
      "metadata": {
        "id": "l8y3ErLUIsWu",
        "colab_type": "code",
        "colab": {
          "base_uri": "https://localhost:8080/",
          "height": 540
        },
        "outputId": "0077c06e-3929-4fe8-80b4-58a2180fe283"
      },
      "cell_type": "code",
      "source": [
        "weekly_analysis_1=round(weekly_analysis.div(weekly_analysis.apply(sum,1),0),2)\n",
        "weekly_analysis_1.sort_values(by = '>50K', inplace = True)\n",
        "weekly_analysis_1.plot(kind=\"bar\", title=\"Proportion of Income Earned  based on weekly working hours\", figsize=(8,8),rot=30)"
      ],
      "execution_count": 96,
      "outputs": [
        {
          "output_type": "execute_result",
          "data": {
            "text/plain": [
              "<matplotlib.axes._subplots.AxesSubplot at 0x7f6a7f05b748>"
            ]
          },
          "metadata": {
            "tags": []
          },
          "execution_count": 96
        },
        {
          "output_type": "display_data",
          "data": {
            "image/png": "[encoded data removed]",
            "text/plain": [
              "<matplotlib.figure.Figure at 0x7f6a7eafde80>"
            ]
          },
          "metadata": {
            "tags": []
          }
        }
      ]
    },
    {
      "metadata": {
        "id": "WdRh0yY8MAuA",
        "colab_type": "text"
      },
      "cell_type": "markdown",
      "source": [
        "The graph depicts the logical assumption that higher the no. of working hours per week, higher would be the income earned i.e. here, maximum proportion of the individuals earning more than 50K lie in the range of working hours greater than 60."
      ]
    },
    {
      "metadata": {
        "id": "tcrFOQA3Yyb3",
        "colab_type": "text"
      },
      "cell_type": "markdown",
      "source": [
        "# Income v/s  Capital Gains"
      ]
    },
    {
      "metadata": {
        "id": "O7DomefFQLlv",
        "colab_type": "code",
        "colab": {
          "base_uri": "https://localhost:8080/",
          "height": 265
        },
        "outputId": "bbcfccb7-4b1c-48f2-a94d-a5c007df0631"
      },
      "cell_type": "code",
      "source": [
        "df_1[\"capital.gain\"].unique()"
      ],
      "execution_count": 105,
      "outputs": [
        {
          "output_type": "execute_result",
          "data": {
            "text/plain": [
              "array([    0, 99999, 41310, 34095, 27828, 25236, 25124, 22040, 20051,\n",
              "       18481, 15831, 15024, 15020, 14344, 14084, 13550, 11678, 10605,\n",
              "       10566, 10520,  9562,  9386,  8614,  7978,  7896,  7688,  7443,\n",
              "        7430,  7298,  6849,  6767,  6723,  6514,  6497,  6418,  6360,\n",
              "        6097,  5721,  5556,  5455,  5178,  5060,  5013,  4934,  4931,\n",
              "        4865,  4787,  4687,  4650,  4508,  4416,  4386,  4101,  4064,\n",
              "        3942,  3908,  3887,  3818,  3781,  3674,  3471,  3464,  3456,\n",
              "        3432,  3418,  3411,  3325,  3273,  3137,  3103,  2993,  2977,\n",
              "        2964,  2961,  2936,  2907,  2885,  2829,  2653,  2635,  2597,\n",
              "        2580,  2538,  2463,  2414,  2407,  2387,  2354,  2346,  2329,\n",
              "        2290,  2228,  2202,  2176,  2174,  2105,  2062,  2050,  2036,\n",
              "        2009,  1848,  1831,  1797,  1639,  1506,  1471,  1455,  1424,\n",
              "        1409,  1173,  1151,  1086,  1055,   991,   914,   594,   401,\n",
              "         114])"
            ]
          },
          "metadata": {
            "tags": []
          },
          "execution_count": 105
        }
      ]
    },
    {
      "metadata": {
        "id": "RrFXAGfZR5ZO",
        "colab_type": "code",
        "colab": {}
      },
      "cell_type": "code",
      "source": [
        "# The capital gains were grouped into class range of 5k starting from below 5k to above 25k.\n",
        "df_1[\"Cap_gain\"]=['<5000' if i < 5000 else '5000-10000' if i < 10000 else '10000-15000' if i < 15000 else '15000-20000' if i < 20000 else '20000-25000' if i < 25000 else '>25000' for i in df_1['capital.gain']]\n",
        "df_1[\"Cap_gain\"]"
      ],
      "execution_count": 0,
      "outputs": []
    },
    {
      "metadata": {
        "id": "Kvk8JJ46TLyi",
        "colab_type": "code",
        "colab": {
          "base_uri": "https://localhost:8080/",
          "height": 257
        },
        "outputId": "351b1592-3026-4c22-b2f7-b5825e3a9837"
      },
      "cell_type": "code",
      "source": [
        "Gain_analysis=pd.crosstab(df_1.Cap_gain, df_1.income)\n",
        "Gain_analysis"
      ],
      "execution_count": 112,
      "outputs": [
        {
          "output_type": "execute_result",
          "data": {
            "text/html": [
              "<div>\n",
              "<style scoped>\n",
              "    .dataframe tbody tr th:only-of-type {\n",
              "        vertical-align: middle;\n",
              "    }\n",
              "\n",
              "    .dataframe tbody tr th {\n",
              "        vertical-align: top;\n",
              "    }\n",
              "\n",
              "    .dataframe thead th {\n",
              "        text-align: right;\n",
              "    }\n",
              "</style>\n",
              "<table border=\"1\" class=\"dataframe\">\n",
              "  <thead>\n",
              "    <tr style=\"text-align: right;\">\n",
              "      <th>income</th>\n",
              "      <th>&lt;=50K</th>\n",
              "      <th>&gt;50K</th>\n",
              "    </tr>\n",
              "    <tr>\n",
              "      <th>Cap_gain</th>\n",
              "      <th></th>\n",
              "      <th></th>\n",
              "    </tr>\n",
              "  </thead>\n",
              "  <tbody>\n",
              "    <tr>\n",
              "      <th>10000-15000</th>\n",
              "      <td>6</td>\n",
              "      <td>144</td>\n",
              "    </tr>\n",
              "    <tr>\n",
              "      <th>15000-20000</th>\n",
              "      <td>0</td>\n",
              "      <td>350</td>\n",
              "    </tr>\n",
              "    <tr>\n",
              "      <th>20000-25000</th>\n",
              "      <td>1</td>\n",
              "      <td>33</td>\n",
              "    </tr>\n",
              "    <tr>\n",
              "      <th>5000-10000</th>\n",
              "      <td>135</td>\n",
              "      <td>699</td>\n",
              "    </tr>\n",
              "    <tr>\n",
              "      <th>&lt;5000</th>\n",
              "      <td>22507</td>\n",
              "      <td>6089</td>\n",
              "    </tr>\n",
              "    <tr>\n",
              "      <th>&gt;25000</th>\n",
              "      <td>5</td>\n",
              "      <td>193</td>\n",
              "    </tr>\n",
              "  </tbody>\n",
              "</table>\n",
              "</div>"
            ],
            "text/plain": [
              "income       <=50K  >50K\n",
              "Cap_gain                \n",
              "10000-15000      6   144\n",
              "15000-20000      0   350\n",
              "20000-25000      1    33\n",
              "5000-10000     135   699\n",
              "<5000        22507  6089\n",
              ">25000           5   193"
            ]
          },
          "metadata": {
            "tags": []
          },
          "execution_count": 112
        }
      ]
    },
    {
      "metadata": {
        "id": "cdtATnyOTkbA",
        "colab_type": "code",
        "colab": {
          "base_uri": "https://localhost:8080/",
          "height": 257
        },
        "outputId": "c644363e-dd91-4826-9b1a-7483a4ff3b09"
      },
      "cell_type": "code",
      "source": [
        "Gains=round(Gain_analysis.div(Gain_analysis.apply(sum,1),0),2)\n",
        "Gains.sort_values(by = '>50K', inplace = True)\n",
        "Gains"
      ],
      "execution_count": 114,
      "outputs": [
        {
          "output_type": "execute_result",
          "data": {
            "text/html": [
              "<div>\n",
              "<style scoped>\n",
              "    .dataframe tbody tr th:only-of-type {\n",
              "        vertical-align: middle;\n",
              "    }\n",
              "\n",
              "    .dataframe tbody tr th {\n",
              "        vertical-align: top;\n",
              "    }\n",
              "\n",
              "    .dataframe thead th {\n",
              "        text-align: right;\n",
              "    }\n",
              "</style>\n",
              "<table border=\"1\" class=\"dataframe\">\n",
              "  <thead>\n",
              "    <tr style=\"text-align: right;\">\n",
              "      <th>income</th>\n",
              "      <th>&lt;=50K</th>\n",
              "      <th>&gt;50K</th>\n",
              "    </tr>\n",
              "    <tr>\n",
              "      <th>Cap_gain</th>\n",
              "      <th></th>\n",
              "      <th></th>\n",
              "    </tr>\n",
              "  </thead>\n",
              "  <tbody>\n",
              "    <tr>\n",
              "      <th>&lt;5000</th>\n",
              "      <td>0.79</td>\n",
              "      <td>0.21</td>\n",
              "    </tr>\n",
              "    <tr>\n",
              "      <th>5000-10000</th>\n",
              "      <td>0.16</td>\n",
              "      <td>0.84</td>\n",
              "    </tr>\n",
              "    <tr>\n",
              "      <th>10000-15000</th>\n",
              "      <td>0.04</td>\n",
              "      <td>0.96</td>\n",
              "    </tr>\n",
              "    <tr>\n",
              "      <th>20000-25000</th>\n",
              "      <td>0.03</td>\n",
              "      <td>0.97</td>\n",
              "    </tr>\n",
              "    <tr>\n",
              "      <th>&gt;25000</th>\n",
              "      <td>0.03</td>\n",
              "      <td>0.97</td>\n",
              "    </tr>\n",
              "    <tr>\n",
              "      <th>15000-20000</th>\n",
              "      <td>0.00</td>\n",
              "      <td>1.00</td>\n",
              "    </tr>\n",
              "  </tbody>\n",
              "</table>\n",
              "</div>"
            ],
            "text/plain": [
              "income       <=50K  >50K\n",
              "Cap_gain                \n",
              "<5000         0.79  0.21\n",
              "5000-10000    0.16  0.84\n",
              "10000-15000   0.04  0.96\n",
              "20000-25000   0.03  0.97\n",
              ">25000        0.03  0.97\n",
              "15000-20000   0.00  1.00"
            ]
          },
          "metadata": {
            "tags": []
          },
          "execution_count": 114
        }
      ]
    },
    {
      "metadata": {
        "id": "JitwA5svW-qe",
        "colab_type": "code",
        "colab": {
          "base_uri": "https://localhost:8080/",
          "height": 557
        },
        "outputId": "e52c708f-de3c-4e44-f730-3d83e02d6aae"
      },
      "cell_type": "code",
      "source": [
        "Gains.plot(kind=\"bar\", title=\"Proportion of Income Earned  based on weekly working hours\", figsize=(8,8),rot=30)"
      ],
      "execution_count": 115,
      "outputs": [
        {
          "output_type": "execute_result",
          "data": {
            "text/plain": [
              "<matplotlib.axes._subplots.AxesSubplot at 0x7f6a7eccb630>"
            ]
          },
          "metadata": {
            "tags": []
          },
          "execution_count": 115
        },
        {
          "output_type": "display_data",
          "data": {
            "image/png": "[encoded data removed]",
            "text/plain": [
              "<matplotlib.figure.Figure at 0x7f6a7ef11438>"
            ]
          },
          "metadata": {
            "tags": []
          }
        }
      ]
    },
    {
      "metadata": {
        "id": "8lxU_Mn_U53b",
        "colab_type": "text"
      },
      "cell_type": "markdown",
      "source": [
        "As is conclusive from the above graph, capital gains of range 15k-20k were recorded only by individuals earning more than 50k. Interestingly, 3% of capital gains greater than 25k were recorded by those individuals who earned less than 50k.\n",
        "\n",
        "Moreover, individuals with earning less than or equal to 50k  dominated (79%)  the range of less than 5k capital gains."
      ]
    },
    {
      "metadata": {
        "id": "_zVS_0buM7J8",
        "colab_type": "text"
      },
      "cell_type": "markdown",
      "source": [
        "# Conclusions"
      ]
    },
    {
      "metadata": {
        "id": "XthgkUKLMvut",
        "colab_type": "text"
      },
      "cell_type": "markdown",
      "source": [
        "\n",
        "\n",
        "1.   75% of the individuals surveyed that have a doctorate, earn above 50k.\n",
        "2.   For the male individuals in the cohort; in the Federal govt. category, an equal proportion of 33% earned both above as well as below 50k.\n",
        "3.   In all categories of workclasses majority female individuals earned less than or equal to 50k.\n",
        "4.   In Executive Managerial occupation, an equal proportion of individuals can be found with income of above 50k as well as below 50k.\n",
        "5.   73.89% people are working under private employers whereas a meagre 0.05% work with no pay.\n",
        "6.   Major of the income distribution is dominated by the race of Whites with 85.98% and next race is Blacks with 9.34%. The minimum proportion was captured by Other races (0.77%)\n",
        "7.   Maximum proportion of the individuals earning more than 50k lie in the range of working hours greater than 60.\n",
        "8.   Of the Capital gains of range 20k or above, 97% were recorded by individuals with earning greater than 50k.\n"
      ]
    }
  ]
}